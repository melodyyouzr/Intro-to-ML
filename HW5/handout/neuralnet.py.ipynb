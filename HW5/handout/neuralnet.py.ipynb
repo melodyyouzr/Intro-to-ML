{
 "cells": [
  {
   "cell_type": "code",
   "execution_count": 1179,
   "metadata": {},
   "outputs": [],
   "source": [
    "import csv\n",
    "import sys\n",
    "import numpy as np\n",
    "\n",
    "# train = sys.argv[1]\n",
    "# test = sys.argv[2]\n",
    "# train_out = sys.argv[3]\n",
    "# test_out = sys.argv[4]\n",
    "# metrics = sys.argv[5]\n",
    "# epoch_num = sys.argv[6]\n",
    "# hiddenUnits = sys.argv[7]\n",
    "# model_num = sys.argv[8]\n",
    "# lr = sys.argv[9]"
   ]
  },
  {
   "cell_type": "code",
   "execution_count": 1180,
   "metadata": {},
   "outputs": [],
   "source": [
    "def model(a,units,lr):\n",
    "    if(a == 1):\n",
    "        alpha = np.random.uniform(-0.1,0.1,(units,129))\n",
    "        for i in range(4):\n",
    "            alpha[i][0] = 0\n",
    "        beta = np.random.uniform(-0.1,0.1,(10,units+1))\n",
    "        for i in range(10):\n",
    "            beta[i][0] = 0\n",
    "    if(a == 2):\n",
    "        #zero, hidden layer(D) = 4, length of vector M+1 = 129\n",
    "        alpha = np.zeros((4,129))\n",
    "        # small dataset, K = 10, D = 4\n",
    "        beta = np.zeros((10,5))\n",
    "        \n",
    "    learningRate = lr\n",
    "    return alpha, beta, learningRate"
   ]
  },
  {
   "cell_type": "code",
   "execution_count": 1181,
   "metadata": {},
   "outputs": [],
   "source": [
    "# read file\n",
    "def readData(file):\n",
    "    with open(file, 'rt') as csvfile:\n",
    "        reader = csv.reader(csvfile)\n",
    "        rawdata = [row for row in reader]\n",
    "\n",
    "    output = []\n",
    "    for i in range(len(rawdata)):\n",
    "        output.append(int(rawdata[i][0]))\n",
    "\n",
    "    data = [[] for i in range(len(rawdata))] \n",
    "    for i in range(len(rawdata)):\n",
    "        data[i].append(1)\n",
    "        for j in range(1,len(rawdata[0])):\n",
    "            data[i].append(int(rawdata[i][j]))\n",
    "\n",
    "    input = np.array(data)\n",
    "\n",
    "    return input, output\n",
    "  "
   ]
  },
  {
   "cell_type": "code",
   "execution_count": 1182,
   "metadata": {},
   "outputs": [],
   "source": [
    "trainIn, trainOut = readData(\"smallTrain.csv\")\n",
    "testIn, testOut = readData(\"smallTest.csv\")"
   ]
  },
  {
   "cell_type": "code",
   "execution_count": 1183,
   "metadata": {},
   "outputs": [],
   "source": [
    "# Forward\n",
    "def linearFW1(x, alpha):\n",
    "    a = np.matmul(alpha, x.T)\n",
    "    return a"
   ]
  },
  {
   "cell_type": "code",
   "execution_count": 1184,
   "metadata": {},
   "outputs": [],
   "source": [
    "def sigmoidFW(a):\n",
    "    z = []\n",
    "    for i in range(len(a)):\n",
    "        z.append(1/(1 + np.exp(-a[i])))\n",
    "    z.insert(0,1)\n",
    "    z = np.array(z)\n",
    "    return z"
   ]
  },
  {
   "cell_type": "code",
   "execution_count": 1185,
   "metadata": {},
   "outputs": [],
   "source": [
    "def linearFW2(z, beta):\n",
    "    b = np.matmul(beta, z.T)\n",
    "    return b"
   ]
  },
  {
   "cell_type": "code",
   "execution_count": 1186,
   "metadata": {},
   "outputs": [],
   "source": [
    "def softmaxFW(b):\n",
    "    y1 = []\n",
    "    e = np.exp(b)\n",
    "    for i in range(len(e)):\n",
    "        y1.append(e[i]/np.sum(e))\n",
    "    y1 = np.array(y1)\n",
    "    return y1"
   ]
  },
  {
   "cell_type": "code",
   "execution_count": 1187,
   "metadata": {},
   "outputs": [],
   "source": [
    "# Backward\n",
    "def softmaxBW(y,y1):\n",
    "    gb = []\n",
    "    for i in range(len(y)):\n",
    "        gb.append(y1[i]-y[i])\n",
    "    gb = np.array(gb)\n",
    "    return gb"
   ]
  },
  {
   "cell_type": "code",
   "execution_count": 1188,
   "metadata": {},
   "outputs": [],
   "source": [
    "def linearBW1(z,gb,beta):\n",
    "    beta1 = np.delete(beta,0,1)\n",
    "    gbeta = np.matmul(gb, z.reshape(1,len(z)))\n",
    "    gz = np.matmul(beta1.T, gb)\n",
    "    return gbeta, gz\n",
    "\n",
    "gbeta, gz = linearBW1(z,gb,beta)"
   ]
  },
  {
   "cell_type": "code",
   "execution_count": 1189,
   "metadata": {},
   "outputs": [],
   "source": [
    "def sigmoidBW(z,gz):\n",
    "    z = z[1:]\n",
    "    z = z.reshape((len(z),1))\n",
    "    ga = gz * z *(1 - z)\n",
    "    return ga"
   ]
  },
  {
   "cell_type": "code",
   "execution_count": 1190,
   "metadata": {},
   "outputs": [],
   "source": [
    "def linearBW2(x,ga):\n",
    "    galpha = np.matmul(ga, x.reshape((1,len(x))))\n",
    "    return galpha"
   ]
  },
  {
   "cell_type": "code",
   "execution_count": 1191,
   "metadata": {},
   "outputs": [],
   "source": [
    "def update(alpha, beta, galpha, gbeta, lr):\n",
    "    alpha = alpha - lr*galpha\n",
    "    beta = beta - lr*gbeta\n",
    "    return alpha, beta"
   ]
  },
  {
   "cell_type": "code",
   "execution_count": 1192,
   "metadata": {},
   "outputs": [],
   "source": [
    "# m = [1,1,1,0,0,1,1]\n",
    "# x = np.array(m)\n",
    "# n = [[1,1,2,-3,0,1,-3],[1,3,1,2,1,0,2],[1,2,2,2,2,2,1],[1,1,0,2,1,-2,2]]\n",
    "# alpha = np.array(n)\n",
    "# h = [[1,1,2,-2,1],[1,1,-1,1,2],[1,3,1,-1,1]]\n",
    "# beta = np.array(h)\n",
    "# beta1 = np.delete(beta,0,1)\n",
    "# k = [0,1,0]\n",
    "# y = np.array(k)"
   ]
  },
  {
   "cell_type": "code",
   "execution_count": 1195,
   "metadata": {},
   "outputs": [],
   "source": [
    "def epoch(a, alpha, beta, learningRate):\n",
    "    \n",
    "    # number of epoch is a.\n",
    "    epoch_count = 0\n",
    "    for k in range(a):\n",
    "        epoch_count += 1\n",
    "        for i in range(len(trainIn)):\n",
    "            x = trainIn[i]\n",
    "            y = np.zeros((10,1))\n",
    "            y[trainOut[i]] = 1\n",
    "            a = linearFW1(x,alpha)\n",
    "            z = sigmoidFW(a)\n",
    "            b = linearFW2(z,beta)\n",
    "            y1 = softmaxFW(b)\n",
    "            gb = softmaxBW(y,y1)\n",
    "            gbeta, gz = linearBW1(z,gb,beta)\n",
    "            ga = sigmoidBW(z, gz)\n",
    "            galpha = linearBW2(x,ga)\n",
    "            alpha, beta = update(alpha, beta, galpha, gbeta, learningRate)\n",
    "            \n",
    "        # train entropy   \n",
    "        traincrossEntropy = 0\n",
    "        for i in range(len(trainIn)):\n",
    "            x = trainIn[i]\n",
    "            y = np.zeros((10,1))\n",
    "            y[trainOut[i]] = 1\n",
    "            a = linearFW1(x,alpha)\n",
    "            z = sigmoidFW(a)\n",
    "            b = linearFW2(z,beta)\n",
    "            y1 = softmaxFW(b)\n",
    "            for j in range(10):\n",
    "                traincrossEntropy += y[j] * np.log(y1[j])\n",
    "                \n",
    "        traincrossEntropy = -1/len(trainIn)*traincrossEntropy\n",
    "        metrics_file = open(metrics,'w')\n",
    "        metrics_file.write(\"epoch=\" + str(epoch_count) + \" crossentropy(train): \" + str(traincrossEntropy))\n",
    "        print(\"train:\")\n",
    "        print(traincrossEntropy) \n",
    "        \n",
    "        # test entropy\n",
    "        testcrossEntropy = 0\n",
    "        for i in range(len(testIn)):\n",
    "            x = testIn[i]\n",
    "            y = np.zeros((10,1))\n",
    "            y[testOut[i]] = 1\n",
    "            a = linearFW1(x,alpha)\n",
    "            z = sigmoidFW(a)\n",
    "            b = linearFW2(z,beta)\n",
    "            y1 = softmaxFW(b)\n",
    "            for j in range(10):\n",
    "                testcrossEntropy += y[j] * np.log(y1[j])\n",
    "                \n",
    "        testcrossEntropy = -1/len(testIn)*testcrossEntropy\n",
    "        metrics_file = open(metrics,'w')\n",
    "        metrics_file.write(\"epoch=\" + str(epoch_count) + \" crossentropy(test): \" + str(testcrossEntropy))\n",
    "        print(\"test:\")\n",
    "        print(testcrossEntropy)\n",
    "        \n",
    "        \n",
    "    #train error \n",
    "    index = []\n",
    "    trainError = 0\n",
    "    for i in range(len(trainIn)):\n",
    "        x = trainIn[i]\n",
    "        y = np.zeros((10,1))\n",
    "        y[trainOut[i]] = 1\n",
    "        a = linearFW1(x,alpha)\n",
    "        z = sigmoidFW(a)\n",
    "        b = linearFW2(z,beta)\n",
    "        y1 = softmaxFW(b)\n",
    "        m = np.argmax(y1, axis=0)\n",
    "        index.append(m)\n",
    "        if (m != trainOut[i]):\n",
    "            trainError += 1\n",
    "    trainErrorRate = trainError/len(trainOut)\n",
    "    metrics_file = open(metrics,'w')\n",
    "    metrics_file.write('error(train): ' + str(trainErrorRate)+'\\n')\n",
    "    print(trainErrorRate)\n",
    "    \n",
    "    #test error \n",
    "    testindex = []\n",
    "    testError = 0\n",
    "    for i in range(len(testIn)):\n",
    "        x = testIn[i]\n",
    "        y = np.zeros((10,1))\n",
    "        y[testOut[i]] = 1\n",
    "        a = linearFW1(x,alpha)\n",
    "        z = sigmoidFW(a)\n",
    "        b = linearFW2(z,beta)\n",
    "        y1 = softmaxFW(b)\n",
    "        n = np.argmax(y1, axis=0)\n",
    "        testindex.append(n)\n",
    "        if (n != testOut[i]):\n",
    "            testError += 1\n",
    "    testErrorRate = testError/len(testOut)\n",
    "    metrics_file = open(metrics,'w')\n",
    "    metrics_file.write('error(test): ' + str(testErrorRate)+'\\n')\n",
    "    print(testErrorRate)\n",
    "    \n",
    "    return index, testindex"
   ]
  },
  {
   "cell_type": "code",
   "execution_count": 1196,
   "metadata": {},
   "outputs": [
    {
     "name": "stdout",
     "output_type": "stream",
     "text": [
      "train:\n",
      "[2.18506276]\n",
      "test:\n",
      "[2.18827303]\n",
      "train:\n",
      "[1.90103258]\n",
      "test:\n",
      "[1.91363803]\n",
      "0.77\n",
      "0.78\n"
     ]
    }
   ],
   "source": [
    "alpha_, beta_ , lr_ = model(model_num,hiddenUnits,lr)\n",
    "k,l = epoch(epoch_num, alpha_, beta_, lr_)"
   ]
  },
  {
   "cell_type": "code",
   "execution_count": null,
   "metadata": {},
   "outputs": [],
   "source": [
    "trainOut_file = open(train_out,'w')\n",
    "for s in k:\n",
    "    trainOut_file.write(s+'\\n')\n",
    "\n",
    "testOut_file = open(test_out,'w')\n",
    "for t in l:\n",
    "    testOut_file.write(t+'\\n')"
   ]
  }
 ],
 "metadata": {
  "kernelspec": {
   "display_name": "Python 3",
   "language": "python",
   "name": "python3"
  },
  "language_info": {
   "codemirror_mode": {
    "name": "ipython",
    "version": 3
   },
   "file_extension": ".py",
   "mimetype": "text/x-python",
   "name": "python",
   "nbconvert_exporter": "python",
   "pygments_lexer": "ipython3",
   "version": "3.7.1"
  }
 },
 "nbformat": 4,
 "nbformat_minor": 2
}
