{
 "cells": [
  {
   "cell_type": "code",
   "execution_count": 170,
   "metadata": {},
   "outputs": [
    {
     "name": "stdout",
     "output_type": "stream",
     "text": [
      "{'A': 1, 'B': 2}\n"
     ]
    }
   ],
   "source": [
    "import sys\n",
    "import numpy as np\n",
    "\n",
    "f_tag = open(\"toy_index_to_tag.txt\",'r')\n",
    "tag = f_tag.readlines()\n",
    "tag_dict = {}\n",
    "for i in range(len(tag)):\n",
    "    tag_dict[tag[i].strip('\\n')] = i+1\n",
    "print(tag_dict)"
   ]
  },
  {
   "cell_type": "code",
   "execution_count": 171,
   "metadata": {},
   "outputs": [],
   "source": [
    "f_word = open(\"toy_index_to_word.txt\",'r')\n",
    "word = f_word.readlines()\n",
    "word_dict = {}\n",
    "for i in range(len(word)):\n",
    "    word_dict[word[i].strip('\\n')] = i+1\n",
    "#print(word_dict)"
   ]
  },
  {
   "cell_type": "code",
   "execution_count": 172,
   "metadata": {},
   "outputs": [
    {
     "name": "stdout",
     "output_type": "stream",
     "text": [
      "[[['you', 'B'], ['eat', 'A'], ['fish', 'B']], [['you', 'B'], ['fish', 'B'], ['eat', 'A']], [['eat', 'A'], ['fish', 'B']]]\n"
     ]
    }
   ],
   "source": [
    "f_input = open(\"toytrain.txt\",'r')\n",
    "input = f_input.readlines()\n",
    "traindata = []\n",
    "for i in range(len(input)):\n",
    "    sentence = input[i].strip('\\n')\n",
    "    word = sentence.split(' ')\n",
    "    traindata.append(word)\n",
    "\n",
    "splitdata = []\n",
    "for i in range(len(traindata)): \n",
    "    sentence_line = []\n",
    "    for j in range(len(traindata[i])):\n",
    "        word_line = []\n",
    "        splitword = traindata[i][j].split('_')[0]\n",
    "        splittag = traindata[i][j].split('_')[1]\n",
    "        word_line.append(splitword)\n",
    "        word_line.append(splittag)\n",
    "        sentence_line.append(word_line)\n",
    "        \n",
    "    splitdata.append(sentence_line)\n",
    "print(splitdata)\n",
    "    "
   ]
  },
  {
   "cell_type": "code",
   "execution_count": 173,
   "metadata": {},
   "outputs": [],
   "source": [
    "for i in range(len(splitdata)):\n",
    "    for j in range(len(splitdata[i])):\n",
    "        splitdata[i][j][0] = word_dict.get(splitdata[i][j][0])\n",
    "        splitdata[i][j][1] = tag_dict.get(splitdata[i][j][1])\n",
    "        \n",
    "#print(splitdata)\n",
    "            "
   ]
  },
  {
   "cell_type": "code",
   "execution_count": 174,
   "metadata": {},
   "outputs": [
    {
     "name": "stdout",
     "output_type": "stream",
     "text": [
      "[[0.4]\n",
      " [0.6]]\n"
     ]
    }
   ],
   "source": [
    "# find pi initial\n",
    "pi_count = np.zeros((len(tag_dict), 1))\n",
    "pi =  np.zeros((len(tag_dict), 1))\n",
    "for m in range(len(splitdata)):\n",
    "    pi_count[splitdata[m][0][1] - 1, 0] += 1\n",
    "pi_count += 1\n",
    "#print(pi_count)\n",
    "for i in range(len(tag_dict)):\n",
    "    pi[i][0] = np.float64(pi_count[i][0]/np.sum(pi_count))\n",
    "\n",
    "print(pi)"
   ]
  },
  {
   "cell_type": "code",
   "execution_count": 175,
   "metadata": {},
   "outputs": [
    {
     "name": "stdout",
     "output_type": "stream",
     "text": [
      "[[0.25 0.75]\n",
      " [0.6  0.4 ]]\n"
     ]
    }
   ],
   "source": [
    "# Matrix A transition\n",
    "A_count = np.zeros((len(tag_dict), len(tag_dict)))\n",
    "A = np.zeros((len(tag_dict), len(tag_dict)))\n",
    "\n",
    "for i in range(len(splitdata)):\n",
    "    for j in range(len(splitdata[i]) - 1):\n",
    "            A_count[splitdata[i][j][1] - 1, splitdata[i][j + 1][1] - 1] += 1\n",
    "            \n",
    "A_count = A_count + 1\n",
    "#print(A_count)\n",
    "\n",
    "for i in range(len(tag_dict)):\n",
    "    for j in range(len(tag_dict)):\n",
    "        A[i][j] = np.float64(A_count[i][j]/np.sum(A_count[i]))\n",
    "        \n",
    "print(A)\n",
    "        "
   ]
  },
  {
   "cell_type": "code",
   "execution_count": 176,
   "metadata": {},
   "outputs": [
    {
     "name": "stdout",
     "output_type": "stream",
     "text": [
      "[[0.16666667 0.66666667 0.16666667]\n",
      " [0.375      0.125      0.5       ]]\n"
     ]
    }
   ],
   "source": [
    "# Matrix B emission\n",
    "B_count = np.zeros((len(tag_dict), len(word_dict)))\n",
    "B = np.zeros((len(tag_dict), len(word_dict)))\n",
    "\n",
    "for i in range(len(splitdata)):\n",
    "    for j in range(len(splitdata[i])):\n",
    "            B_count[splitdata[i][j][1] - 1, splitdata[i][j][0] - 1] += 1\n",
    "            \n",
    "B_count = B_count + 1\n",
    "#print(B_count)\n",
    "\n",
    "for i in range(len(tag_dict)):\n",
    "    for j in range(len(word_dict)):\n",
    "        B[i][j] = np.float64(B_count[i][j]/np.sum(B_count[i]))\n",
    "        \n",
    "print(B)"
   ]
  },
  {
   "cell_type": "code",
   "execution_count": null,
   "metadata": {},
   "outputs": [],
   "source": [
    "prior = open(\"hmmprior.txt\",'w')\n",
    "prior.write(pi)\n",
    "\n",
    "emit = open(\"emit.txt\",'w')\n",
    "emi.write(B)\n",
    "\n",
    "trans = open(\"hmmtrans.txt\",'w')\n",
    "trans.write(A)"
   ]
  }
 ],
 "metadata": {
  "kernelspec": {
   "display_name": "Python 3",
   "language": "python",
   "name": "python3"
  },
  "language_info": {
   "codemirror_mode": {
    "name": "ipython",
    "version": 3
   },
   "file_extension": ".py",
   "mimetype": "text/x-python",
   "name": "python",
   "nbconvert_exporter": "python",
   "pygments_lexer": "ipython3",
   "version": "3.7.1"
  }
 },
 "nbformat": 4,
 "nbformat_minor": 2
}
