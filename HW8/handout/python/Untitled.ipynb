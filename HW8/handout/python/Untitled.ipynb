{
 "cells": [
  {
   "cell_type": "code",
   "execution_count": 172,
   "metadata": {},
   "outputs": [],
   "source": [
    "from environment import MountainCar\n",
    "import numpy as np\n",
    "from numpy import random\n",
    "import sys"
   ]
  },
  {
   "cell_type": "code",
   "execution_count": 219,
   "metadata": {},
   "outputs": [],
   "source": [
    "learning_rate = 0.01\n",
    "gamma = 0.99\n",
    "epsilon = 0.05\n",
    "max_iteration = 200\n",
    "episode = 4\n",
    "car = MountainCar(\"raw\")\n",
    "init_weight = np.zeros([car.state_space, 3], dtype = float) # 2 x 3\n",
    "init_bias = 0\n",
    "action = [0,1,2]"
   ]
  },
  {
   "cell_type": "code",
   "execution_count": 220,
   "metadata": {},
   "outputs": [],
   "source": [
    "def QValue(a, weight, bias, state):\n",
    "    suml = 0\n",
    "    column = weight[:,a]\n",
    "    for k,v in state.items():\n",
    "        suml += column[k]*v\n",
    "    suml += bias\n",
    "    return suml"
   ]
  },
  {
   "cell_type": "code",
   "execution_count": 221,
   "metadata": {},
   "outputs": [],
   "source": [
    "def epsilon_find(e, weight, bias, state):\n",
    "    qvalue = []\n",
    "    if random.random() < e:\n",
    "        a = random.choice(action)\n",
    "    else:\n",
    "        for i in range(3):\n",
    "            v = QValue(i, weight, bias, state)\n",
    "            qvalue.append(v)\n",
    "        a = qvalue.index(max(qvalue))\n",
    "    return a       "
   ]
  },
  {
   "cell_type": "code",
   "execution_count": 222,
   "metadata": {},
   "outputs": [],
   "source": [
    "def update(e, learning_rate, gamma, weight, episode, max_iteration, bias):\n",
    "    # first update of first episode\n",
    "    total_returns = []\n",
    "    for i in range(episode):\n",
    "        state = car.transform(car.state)\n",
    "        total_r = 0\n",
    "        step_count = 0\n",
    "        done = False;\n",
    "        while(done == False):\n",
    "            a = epsilon_find(e, weight, bias, state)\n",
    "            # first q.\n",
    "            \n",
    "            #print(curr_q)\n",
    "            next_state,reward,done = car.step(a)\n",
    "            if done is True:\n",
    "                break\n",
    "            curr_q = QValue(a, weight, bias, state)\n",
    "            \n",
    "            total_r += reward\n",
    "\n",
    "            qvalue = []\n",
    "            for i in action:\n",
    "                v = QValue(i, weight, bias, next_state)\n",
    "                qvalue.append(v)\n",
    "            max_q = max(qvalue)\n",
    "\n",
    "#             gradient_matrix = np.zeros([2, 3], dtype = int)\n",
    "#             for k,v in state.items():\n",
    "#                 gradient_matrix[k][a] += v\n",
    "            constant = learning_rate*(curr_q - (reward + gamma*max_q))\n",
    "            #print(constant)\n",
    "\n",
    "            for k,v in state.items():\n",
    "                weight[k][a] = weight[k][a] - constant*v\n",
    "\n",
    "            bias = bias - constant\n",
    "\n",
    "            state = next_state\n",
    "            \n",
    "            step_count += 1\n",
    "            if step_count == max_iteration:\n",
    "                break;\n",
    "        \n",
    "        total_returns.append(total_r)\n",
    "        car.reset()\n",
    "    return weight, bias, total_returns"
   ]
  },
  {
   "cell_type": "code",
   "execution_count": 223,
   "metadata": {},
   "outputs": [
    {
     "name": "stdout",
     "output_type": "stream",
     "text": [
      "[[ 1.34188875e+00  1.34315821e+00  1.33861997e+00]\n",
      " [-1.36905625e-03  1.02387369e-03  1.16337649e-03]]\n",
      "-7.661243662716356\n",
      "[-200.0, -200.0, -200.0, -200.0]\n"
     ]
    }
   ],
   "source": [
    "if __name__ == \"__main__\":\n",
    "    car = MountainCar()\n",
    "    learning_rate = 0.01\n",
    "    gamma = 0.99\n",
    "    epsilon = 0.05\n",
    "    max_iteration = 200\n",
    "    episode = 4\n",
    "    init_weight = np.zeros([car.state_space, 3], dtype = float) # 2 x 3\n",
    "    init_bias = 0\n",
    "    action = [0,1,2]\n",
    "    w, b, r = update(epsilon, learning_rate, gamma, init_weight, episode, max_iteration, init_bias)"
   ]
  },
  {
   "cell_type": "code",
   "execution_count": null,
   "metadata": {},
   "outputs": [],
   "source": []
  }
 ],
 "metadata": {
  "kernelspec": {
   "display_name": "Python 3",
   "language": "python",
   "name": "python3"
  },
  "language_info": {
   "codemirror_mode": {
    "name": "ipython",
    "version": 3
   },
   "file_extension": ".py",
   "mimetype": "text/x-python",
   "name": "python",
   "nbconvert_exporter": "python",
   "pygments_lexer": "ipython3",
   "version": "3.7.1"
  }
 },
 "nbformat": 4,
 "nbformat_minor": 2
}
